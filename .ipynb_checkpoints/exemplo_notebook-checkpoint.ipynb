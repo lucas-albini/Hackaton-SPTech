{
 "cells": [
  {
   "cell_type": "code",
   "execution_count": 5,
   "id": "708dab8e-6c52-4291-acab-83e0f3f747b2",
   "metadata": {},
   "outputs": [],
   "source": [
    "import boto3"
   ]
  },
  {
   "cell_type": "code",
   "execution_count": 6,
   "id": "e47168ad-cfa8-4f4d-9134-2d740ea36084",
   "metadata": {},
   "outputs": [],
   "source": [
    "client = boto3.client(service_name='bedrock-runtime', region_name='us-east-1')"
   ]
  },
  {
   "cell_type": "code",
   "execution_count": 7,
   "id": "42e4b258-5dce-4d09-a5f9-9f75b5f21b74",
   "metadata": {},
   "outputs": [],
   "source": [
    "def chamada_api(prompt):\n",
    "\n",
    "    response = client.converse(\n",
    "        modelId=\"anthropic.claude-3-5-sonnet-20240620-v1:0\",\n",
    "        messages=prompt,\n",
    "        inferenceConfig={\"maxTokens\":2048,\"stopSequences\":[\"\\n\\nHuman:\"],\"temperature\":1,\"topP\":1},\n",
    "        additionalModelRequestFields={\"top_k\":250}\n",
    "    )\n",
    "\n",
    "    response_text = response[\"output\"][\"message\"][\"content\"][0][\"text\"]\n",
    "\n",
    "    return(response_text)"
   ]
  },
  {
   "cell_type": "code",
   "execution_count": 8,
   "id": "e504181f-e758-4903-904d-f311a32713ee",
   "metadata": {},
   "outputs": [],
   "source": [
    "def gerar_textos(mensagem):\n",
    "    system_prompt = \"\"\"\n",
    "    Você é um assistente de IA que está ajudando um usuário a gerar textos.\n",
    "\n",
    "    Você receberá uma solicitação de um usuário e deverá responder a essa solicitação.\n",
    "\n",
    "    A solicitação do usuário estará dentro das tags <text></text>.\n",
    "    \"\"\"\n",
    "\n",
    "    input_prompt = f\"{system_prompt} \\n\\nHuman: <text>{mensagem}</text> \\n\\nAssistant:\"\n",
    "\n",
    "    conversation = [\n",
    "        {\n",
    "            \"role\": \"user\",\n",
    "            \"content\": [{\"text\": input_prompt}],\n",
    "        }\n",
    "    ]\n",
    "\n",
    "    response = chamada_api(conversation)\n",
    "\n",
    "    return(response)"
   ]
  },
  {
   "cell_type": "code",
   "execution_count": 9,
   "id": "05ff8cc6-6c5b-4d97-908c-f62d47cd0250",
   "metadata": {},
   "outputs": [],
   "source": [
    "mensagem = \"Gere um texto curto explicando o que é IA\""
   ]
  },
  {
   "cell_type": "code",
   "execution_count": 11,
   "id": "4ddf021a-ce3e-439a-8487-874823b50815",
   "metadata": {},
   "outputs": [
    {
     "data": {
      "text/plain": [
       "'Aqui está um texto curto explicando o que é IA:\\n\\nA Inteligência Artificial (IA) é um campo da ciência da computação que busca criar sistemas capazes de realizar tarefas que normalmente exigiriam inteligência humana. Esses sistemas utilizam algoritmos e grandes quantidades de dados para aprender, raciocinar e tomar decisões de forma autônoma. A IA abrange diversas técnicas, como aprendizado de máquina, processamento de linguagem natural e visão computacional. Suas aplicações são amplas e incluem assistentes virtuais, carros autônomos, diagnósticos médicos e muito mais. À medida que a tecnologia avança, a IA continua a transformar diversos aspectos de nossas vidas e indústrias.'"
      ]
     },
     "execution_count": 11,
     "metadata": {},
     "output_type": "execute_result"
    }
   ],
   "source": [
    "response = gerar_textos(mensagem)\n",
    "response"
   ]
  },
  {
   "cell_type": "code",
   "execution_count": null,
   "id": "04866ee7-3c5e-4162-b478-3e7ccd986015",
   "metadata": {},
   "outputs": [],
   "source": []
  }
 ],
 "metadata": {
  "kernelspec": {
   "display_name": "Python 3 (ipykernel)",
   "language": "python",
   "name": "python3"
  },
  "language_info": {
   "codemirror_mode": {
    "name": "ipython",
    "version": 3
   },
   "file_extension": ".py",
   "mimetype": "text/x-python",
   "name": "python",
   "nbconvert_exporter": "python",
   "pygments_lexer": "ipython3",
   "version": "3.11.9"
  }
 },
 "nbformat": 4,
 "nbformat_minor": 5
}
